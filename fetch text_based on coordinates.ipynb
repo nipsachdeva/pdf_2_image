{
 "cells": [
  {
   "cell_type": "code",
   "execution_count": 33,
   "id": "virgin-academy",
   "metadata": {},
   "outputs": [],
   "source": [
    "import pytesseract as  tess\n",
    "from PIL import Image\n",
    "import cv2\n",
    "import io\n",
    "import pyautogui as gui\n",
    "import numpy as np\n",
    "import pyocr\n",
    "from PIL import Image, ImageFont, ImageDraw \n",
    "import pickle\n",
    "import docx"
   ]
  },
  {
   "cell_type": "code",
   "execution_count": 2,
   "id": "employed-generation",
   "metadata": {},
   "outputs": [],
   "source": [
    "def get_text(x,y):\n",
    "    ''' This function gets the text inside an area'''\n",
    "    global word_boxes\n",
    "    for word in word_boxes:\n",
    "        initial,final = word.position\n",
    "        if x>list(initial)[0] and x<list(final)[0] and y>list(initial)[1] and y<list(final)[1]:\n",
    "            action.print_log(word.content)\n",
    "            break"
   ]
  },
  {
   "cell_type": "code",
   "execution_count": 3,
   "id": "subject-springer",
   "metadata": {},
   "outputs": [],
   "source": [
    "def _map(x_,y_):\n",
    "    ''' Mapping actual coordinates of image with current screen coordinates'''\n",
    "    global x_ratio,y_ratio\n",
    "    return (x_ * x_ratio), (y_ * y_ratio)"
   ]
  },
  {
   "cell_type": "code",
   "execution_count": 4,
   "id": "downtown-interval",
   "metadata": {},
   "outputs": [],
   "source": [
    "def all_text(x0,y0,x1,y1):\n",
    "    '''The parameters are the diagonal coordinates of the box whose content we need to find. '''\n",
    "    global word_boxes\n",
    "    text = []\n",
    "    for word in word_boxes:\n",
    "        initial,final = word.position\n",
    "        if list(initial)[0]>x0 and list(final)[0]<x1 and list(initial)[1]>y0 and list(final)[1]<y1:\n",
    "            text.append(word.content)\n",
    "    return \" \".join(text)"
   ]
  },
  {
   "cell_type": "code",
   "execution_count": 5,
   "id": "informed-rebel",
   "metadata": {},
   "outputs": [
    {
     "name": "stdout",
     "output_type": "stream",
     "text": [
      "rHUW TO WRITE ALT TEXT AND IMAGE DESCRIPTIONS FOR THE VISUALLY IMPAIHED\n"
     ]
    }
   ],
   "source": [
    "image_path = \"D:/Zietra/optidox/image_2_pdf/temp.jpg\"\n",
    "\n",
    "image = cv2.imread(image_path)\n",
    "\n",
    "tools = pyocr.get_available_tools()\n",
    "\n",
    "tool = tools[0]\n",
    "\n",
    "langs = tool.get_available_languages()\n",
    "\n",
    "word_boxes = tool.image_to_string(Image.fromarray(image), lang = \"eng\", builder = pyocr.builders.WordBoxBuilder())\n",
    "\n",
    "x0 = 0\n",
    "y0 = 0\n",
    "x1 = 265\n",
    "y1 = 191\n",
    "\n",
    "data = all_text(x0,y0,x1,y1)\n",
    "print(data)\n"
   ]
  },
  {
   "cell_type": "code",
   "execution_count": 29,
   "id": "northern-dover",
   "metadata": {},
   "outputs": [],
   "source": [
    "my_image = Image.open(\"text_free_image.jpg\")\n",
    "title_font = ImageFont.load_default()\n",
    "image_editable = ImageDraw.Draw(my_image)\n",
    "image_editable.text((20,100), data, (255, 0, 0), font=title_font)"
   ]
  },
  {
   "cell_type": "code",
   "execution_count": 30,
   "id": "ranging-cabinet",
   "metadata": {},
   "outputs": [],
   "source": [
    "# my_image.save(\"result.jpg\")"
   ]
  },
  {
   "cell_type": "code",
   "execution_count": 31,
   "id": "latter-deficit",
   "metadata": {},
   "outputs": [],
   "source": [
    "# with open('savedimage.pkl', 'wb') as f:\n",
    "#     pickle.dump(my_image, f)\n",
    " "
   ]
  },
  {
   "cell_type": "code",
   "execution_count": 32,
   "id": "caroline-photography",
   "metadata": {},
   "outputs": [],
   "source": [
    "# file_name='savedimage.pkl'\n",
    "# f = open(file_name,'rb')"
   ]
  },
  {
   "cell_type": "code",
   "execution_count": 35,
   "id": "interior-divide",
   "metadata": {},
   "outputs": [],
   "source": [
    "\n",
    "# Create an instance of a word document\n",
    "doc = docx.Document()\n",
    "  \n",
    "# Add a Title to the document\n",
    "doc.add_heading(data, 0)\n",
    "  \n",
    "# Image in its native size\n",
    "doc.add_heading(data, 3)\n",
    "doc.add_picture(\"text_free_image.jpg\")\n",
    "  \n",
    "# Now save the document to a location\n",
    "doc.save('gfg.docx')"
   ]
  },
  {
   "cell_type": "code",
   "execution_count": 36,
   "id": "aging-virus",
   "metadata": {},
   "outputs": [
    {
     "ename": "NameError",
     "evalue": "name 'register_element_cls' is not defined",
     "output_type": "error",
     "traceback": [
      "\u001b[1;31m---------------------------------------------------------------------------\u001b[0m",
      "\u001b[1;31mNameError\u001b[0m                                 Traceback (most recent call last)",
      "\u001b[1;32m<ipython-input-36-e12f98047187>\u001b[0m in \u001b[0;36m<module>\u001b[1;34m\u001b[0m\n\u001b[0;32m     21\u001b[0m \u001b[1;33m\u001b[0m\u001b[0m\n\u001b[0;32m     22\u001b[0m \u001b[1;31m# refer to docx.oxml.shape.__init__.py\u001b[0m\u001b[1;33m\u001b[0m\u001b[1;33m\u001b[0m\u001b[1;33m\u001b[0m\u001b[0m\n\u001b[1;32m---> 23\u001b[1;33m \u001b[0mregister_element_cls\u001b[0m\u001b[1;33m(\u001b[0m\u001b[1;34m'wp:anchor'\u001b[0m\u001b[1;33m,\u001b[0m \u001b[0mCT_Anchor\u001b[0m\u001b[1;33m)\u001b[0m\u001b[1;33m\u001b[0m\u001b[1;33m\u001b[0m\u001b[0m\n\u001b[0m\u001b[0;32m     24\u001b[0m \u001b[1;33m\u001b[0m\u001b[0m\n\u001b[0;32m     25\u001b[0m \u001b[1;33m\u001b[0m\u001b[0m\n",
      "\u001b[1;31mNameError\u001b[0m: name 'register_element_cls' is not defined"
     ]
    }
   ],
   "source": [
    "# refer to docx.parts.story.BaseStoryPart.new_pic_inline\n",
    "def new_pic_anchor(part, image_descriptor, width, height, pos_x, pos_y):\n",
    "    \"\"\"Return a newly-created `w:anchor` element.\n",
    "\n",
    "    The element contains the image specified by *image_descriptor* and is scaled\n",
    "    based on the values of *width* and *height*.\n",
    "    \"\"\"\n",
    "    rId, image = part.get_or_add_image(image_descriptor)\n",
    "    cx, cy = image.scaled_dimensions(width, height)\n",
    "    shape_id, filename = part.next_id, image.filename    \n",
    "    return CT_Anchor.new_pic_anchor(shape_id, rId, filename, cx, cy, pos_x, pos_y)\n",
    "\n",
    "\n",
    "# refer to docx.text.run.add_picture\n",
    "def add_float_picture(p, image_path_or_stream, width=None, height=None, pos_x=0, pos_y=0):\n",
    "    \"\"\"Add float picture at fixed position `pos_x` and `pos_y` to the top-left point of page.\n",
    "    \"\"\"\n",
    "    run = p.add_run()\n",
    "    anchor = new_pic_anchor(run.part, image_path_or_stream, width, height, pos_x, pos_y)\n",
    "    run._r.add_drawing(anchor)\n",
    "\n",
    "# refer to docx.oxml.shape.__init__.py\n",
    "register_element_cls('wp:anchor', CT_Anchor)\n",
    "\n",
    "\n",
    "if __name__ == '__main__':\n",
    "\n",
    "    from docx import Document\n",
    "    from docx.shared import Inches, Pt\n",
    "\n",
    "    document = Document()\n",
    "\n",
    "    # add a floating image\n",
    "    p = document.add_paragraph()\n",
    "    add_float_picture(p, 'test.png', width=Inches(5.0), pos_x=Pt(20), pos_y=Pt(30))\n",
    "\n",
    "    # add text\n",
    "    p.add_run('Hello World'*50)\n",
    "\n",
    "\n",
    "    document.save('output.docx')"
   ]
  },
  {
   "cell_type": "code",
   "execution_count": null,
   "id": "numerous-insured",
   "metadata": {},
   "outputs": [],
   "source": []
  }
 ],
 "metadata": {
  "kernelspec": {
   "display_name": "Python 3",
   "language": "python",
   "name": "python3"
  },
  "language_info": {
   "codemirror_mode": {
    "name": "ipython",
    "version": 3
   },
   "file_extension": ".py",
   "mimetype": "text/x-python",
   "name": "python",
   "nbconvert_exporter": "python",
   "pygments_lexer": "ipython3",
   "version": "3.8.6rc1"
  }
 },
 "nbformat": 4,
 "nbformat_minor": 5
}
