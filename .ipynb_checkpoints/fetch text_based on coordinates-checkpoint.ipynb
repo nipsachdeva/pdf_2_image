{
 "cells": [
  {
   "cell_type": "code",
   "execution_count": 1,
   "id": "virgin-academy",
   "metadata": {},
   "outputs": [],
   "source": [
    "import pytesseract as  tess\n",
    "from PIL import Image\n",
    "import cv2\n",
    "import io\n",
    "import pyautogui as gui\n",
    "import numpy as np\n",
    "import pyocr\n",
    "from PIL import Image, ImageFont, ImageDraw \n",
    "import pickle"
   ]
  },
  {
   "cell_type": "code",
   "execution_count": 2,
   "id": "employed-generation",
   "metadata": {},
   "outputs": [],
   "source": [
    "def get_text(x,y):\n",
    "    ''' This function gets the text inside an area'''\n",
    "    global word_boxes\n",
    "    for word in word_boxes:\n",
    "        initial,final = word.position\n",
    "        if x>list(initial)[0] and x<list(final)[0] and y>list(initial)[1] and y<list(final)[1]:\n",
    "            action.print_log(word.content)\n",
    "            break"
   ]
  },
  {
   "cell_type": "code",
   "execution_count": 3,
   "id": "subject-springer",
   "metadata": {},
   "outputs": [],
   "source": [
    "def _map(x_,y_):\n",
    "    ''' Mapping actual coordinates of image with current screen coordinates'''\n",
    "    global x_ratio,y_ratio\n",
    "    return (x_ * x_ratio), (y_ * y_ratio)"
   ]
  },
  {
   "cell_type": "code",
   "execution_count": 4,
   "id": "downtown-interval",
   "metadata": {},
   "outputs": [],
   "source": [
    "def all_text(x0,y0,x1,y1):\n",
    "    '''The parameters are the diagonal coordinates of the box whose content we need to find. '''\n",
    "    global word_boxes\n",
    "    text = []\n",
    "    for word in word_boxes:\n",
    "        initial,final = word.position\n",
    "        if list(initial)[0]>x0 and list(final)[0]<x1 and list(initial)[1]>y0 and list(final)[1]<y1:\n",
    "            text.append(word.content)\n",
    "    return \" \".join(text)"
   ]
  },
  {
   "cell_type": "code",
   "execution_count": 5,
   "id": "informed-rebel",
   "metadata": {},
   "outputs": [
    {
     "name": "stdout",
     "output_type": "stream",
     "text": [
      "rHUW TO WRITE ALT TEXT AND IMAGE DESCRIPTIONS FOR THE VISUALLY IMPAIHED\n"
     ]
    }
   ],
   "source": [
    "image_path = \"D:/Zietra/optidox/image_2_pdf/temp.jpg\"\n",
    "\n",
    "image = cv2.imread(image_path)\n",
    "\n",
    "tools = pyocr.get_available_tools()\n",
    "\n",
    "tool = tools[0]\n",
    "\n",
    "langs = tool.get_available_languages()\n",
    "\n",
    "word_boxes = tool.image_to_string(Image.fromarray(image), lang = \"eng\", builder = pyocr.builders.WordBoxBuilder())\n",
    "\n",
    "x0 = 0\n",
    "y0 = 0\n",
    "x1 = 265\n",
    "y1 = 191\n",
    "\n",
    "data = all_text(x0,y0,x1,y1)\n",
    "print(data)\n"
   ]
  },
  {
   "cell_type": "code",
   "execution_count": 13,
   "id": "eleven-worth",
   "metadata": {},
   "outputs": [],
   "source": [
    "my_image = Image.open(\"text_free_image.jpg\")\n",
    "title_font = ImageFont.load_default()\n",
    "image_editable = ImageDraw.Draw(my_image)\n",
    "image_editable.text((100,100), data, (255, 0, 0), font=title_font)"
   ]
  },
  {
   "cell_type": "code",
   "execution_count": 14,
   "id": "seeing-hopkins",
   "metadata": {},
   "outputs": [],
   "source": [
    "my_image.save(\"result.jpg\")"
   ]
  },
  {
   "cell_type": "code",
   "execution_count": 15,
   "id": "crucial-illustration",
   "metadata": {},
   "outputs": [],
   "source": [
    "with open('savedimage.pkl', 'wb') as f:\n",
    "    pickle.dump(my_image, f)\n",
    " "
   ]
  },
  {
   "cell_type": "code",
   "execution_count": 16,
   "id": "hairy-oxford",
   "metadata": {},
   "outputs": [],
   "source": [
    "file_name='savedimage.pkl'\n",
    "f = open(file_name,'rb')"
   ]
  },
  {
   "cell_type": "code",
   "execution_count": 12,
   "id": "comfortable-clear",
   "metadata": {},
   "outputs": [
    {
     "data": {
      "text/plain": [
       "<_io.BufferedReader name='savedimage.pkl'>"
      ]
     },
     "execution_count": 12,
     "metadata": {},
     "output_type": "execute_result"
    }
   ],
   "source": []
  },
  {
   "cell_type": "code",
   "execution_count": null,
   "id": "framed-commitment",
   "metadata": {},
   "outputs": [],
   "source": []
  }
 ],
 "metadata": {
  "kernelspec": {
   "display_name": "Python 3",
   "language": "python",
   "name": "python3"
  },
  "language_info": {
   "codemirror_mode": {
    "name": "ipython",
    "version": 3
   },
   "file_extension": ".py",
   "mimetype": "text/x-python",
   "name": "python",
   "nbconvert_exporter": "python",
   "pygments_lexer": "ipython3",
   "version": "3.8.6rc1"
  }
 },
 "nbformat": 4,
 "nbformat_minor": 5
}
