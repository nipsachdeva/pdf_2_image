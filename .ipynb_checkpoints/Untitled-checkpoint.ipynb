{
 "cells": [
  {
   "cell_type": "code",
   "execution_count": 6,
   "id": "superior-decline",
   "metadata": {},
   "outputs": [
    {
     "name": "stdout",
     "output_type": "stream",
     "text": [
      " \n",
      "\n",
      "lMPAlHEU ;\n",
      "\n",
      "   \n",
      "\n",
      "\n"
     ]
    }
   ],
   "source": [
    "import pytesseract\n",
    "from PIL import Image, ImageEnhance, ImageFilter\n",
    "\n",
    "im = Image.open(\"temp.jpg\") # the second one \n",
    "im = im.filter(ImageFilter.MedianFilter())\n",
    "\n",
    "enhancer = ImageEnhance.Contrast(im)\n",
    "im = enhancer.enhance(2)\n",
    "im = im.convert('1')\n",
    "im.save('temp2.jpg')\n",
    "text = pytesseract.image_to_string(Image.open('temp2.jpg'))\n",
    "print(text)"
   ]
  },
  {
   "cell_type": "code",
   "execution_count": 8,
   "id": "royal-internship",
   "metadata": {},
   "outputs": [],
   "source": [
    "# Project: How to Detect and Draw Contours in Images Using OpenCV\n",
    "# Author: Addison Sears-Collins\n",
    "# Date created: February 28, 2021\n",
    "# Description: How to detect and draw contours around objects in \n",
    "# an image using OpenCV.\n",
    " \n",
    "import cv2 # Computer vision library\n",
    "# Read the color image\n",
    "from opencv import cv2\n",
    "\n",
    "image = cv2.imread(\"temp.jpg\")\n",
    "# cv2.imshow('image', image)"
   ]
  },
  {
   "cell_type": "code",
   "execution_count": 9,
   "id": "romantic-duration",
   "metadata": {},
   "outputs": [
    {
     "ename": "error",
     "evalue": "OpenCV(4.1.2) C:\\projects\\opencv-python\\opencv\\modules\\highgui\\src\\window.cpp:717: error: (-2:Unspecified error) The function is not implemented. Rebuild the library with Windows, GTK+ 2.x or Cocoa support. If you are on Ubuntu or Debian, install libgtk2.0-dev and pkg-config, then re-run cmake or configure script in function 'cvWaitKey'\n",
     "output_type": "error",
     "traceback": [
      "\u001b[1;31m---------------------------------------------------------------------------\u001b[0m",
      "\u001b[1;31merror\u001b[0m                                     Traceback (most recent call last)",
      "\u001b[1;32m<ipython-input-9-fbd75920cc53>\u001b[0m in \u001b[0;36m<module>\u001b[1;34m\u001b[0m\n\u001b[0;32m      7\u001b[0m \u001b[1;31m# Display the grayscale image\u001b[0m\u001b[1;33m\u001b[0m\u001b[1;33m\u001b[0m\u001b[1;33m\u001b[0m\u001b[0m\n\u001b[0;32m      8\u001b[0m \u001b[1;31m# cv2.imshow('Gray image', gray)\u001b[0m\u001b[1;33m\u001b[0m\u001b[1;33m\u001b[0m\u001b[1;33m\u001b[0m\u001b[0m\n\u001b[1;32m----> 9\u001b[1;33m \u001b[0mcv2\u001b[0m\u001b[1;33m.\u001b[0m\u001b[0mwaitKey\u001b[0m\u001b[1;33m(\u001b[0m\u001b[1;36m0\u001b[0m\u001b[1;33m)\u001b[0m \u001b[1;31m# Wait for keypress to continue\u001b[0m\u001b[1;33m\u001b[0m\u001b[1;33m\u001b[0m\u001b[0m\n\u001b[0m\u001b[0;32m     10\u001b[0m \u001b[0mcv2\u001b[0m\u001b[1;33m.\u001b[0m\u001b[0mdestroyAllWindows\u001b[0m\u001b[1;33m(\u001b[0m\u001b[1;33m)\u001b[0m \u001b[1;31m# Close windows\u001b[0m\u001b[1;33m\u001b[0m\u001b[1;33m\u001b[0m\u001b[0m\n\u001b[0;32m     11\u001b[0m \u001b[1;33m\u001b[0m\u001b[0m\n",
      "\u001b[1;31merror\u001b[0m: OpenCV(4.1.2) C:\\projects\\opencv-python\\opencv\\modules\\highgui\\src\\window.cpp:717: error: (-2:Unspecified error) The function is not implemented. Rebuild the library with Windows, GTK+ 2.x or Cocoa support. If you are on Ubuntu or Debian, install libgtk2.0-dev and pkg-config, then re-run cmake or configure script in function 'cvWaitKey'\n"
     ]
    }
   ],
   "source": [
    "# Make a copy\n",
    "new_image = image.copy()\n",
    " \n",
    "# Convert the image to grayscale\n",
    "gray = cv2.cvtColor(image, cv2.COLOR_BGR2GRAY)\n",
    " \n",
    "# Display the grayscale image\n",
    "# cv2.imshow('Gray image', gray)  \n",
    "cv2.waitKey(0) # Wait for keypress to continue\n",
    "cv2.destroyAllWindows() # Close windows\n",
    " "
   ]
  },
  {
   "cell_type": "code",
   "execution_count": 2,
   "id": "honest-utilization",
   "metadata": {},
   "outputs": [
    {
     "ename": "error",
     "evalue": "OpenCV(4.1.2) C:\\projects\\opencv-python\\opencv\\modules\\highgui\\src\\window.cpp:651: error: (-2:Unspecified error) The function is not implemented. Rebuild the library with Windows, GTK+ 2.x or Cocoa support. If you are on Ubuntu or Debian, install libgtk2.0-dev and pkg-config, then re-run cmake or configure script in function 'cvShowImage'\n",
     "output_type": "error",
     "traceback": [
      "\u001b[1;31m---------------------------------------------------------------------------\u001b[0m",
      "\u001b[1;31merror\u001b[0m                                     Traceback (most recent call last)",
      "\u001b[1;32m<ipython-input-2-3850c99dc353>\u001b[0m in \u001b[0;36m<module>\u001b[1;34m\u001b[0m\n\u001b[0;32m     17\u001b[0m \u001b[1;33m\u001b[0m\u001b[0m\n\u001b[0;32m     18\u001b[0m \u001b[1;31m# Display the grayscale image\u001b[0m\u001b[1;33m\u001b[0m\u001b[1;33m\u001b[0m\u001b[1;33m\u001b[0m\u001b[0m\n\u001b[1;32m---> 19\u001b[1;33m \u001b[0mcv2\u001b[0m\u001b[1;33m.\u001b[0m\u001b[0mimshow\u001b[0m\u001b[1;33m(\u001b[0m\u001b[1;34m'Gray image'\u001b[0m\u001b[1;33m,\u001b[0m \u001b[0mgray\u001b[0m\u001b[1;33m)\u001b[0m\u001b[1;33m\u001b[0m\u001b[1;33m\u001b[0m\u001b[0m\n\u001b[0m\u001b[0;32m     20\u001b[0m \u001b[0mcv2\u001b[0m\u001b[1;33m.\u001b[0m\u001b[0mwaitKey\u001b[0m\u001b[1;33m(\u001b[0m\u001b[1;36m0\u001b[0m\u001b[1;33m)\u001b[0m \u001b[1;31m# Wait for keypress to continue\u001b[0m\u001b[1;33m\u001b[0m\u001b[1;33m\u001b[0m\u001b[0m\n\u001b[0;32m     21\u001b[0m \u001b[0mcv2\u001b[0m\u001b[1;33m.\u001b[0m\u001b[0mdestroyAllWindows\u001b[0m\u001b[1;33m(\u001b[0m\u001b[1;33m)\u001b[0m \u001b[1;31m# Close windows\u001b[0m\u001b[1;33m\u001b[0m\u001b[1;33m\u001b[0m\u001b[0m\n",
      "\u001b[1;31merror\u001b[0m: OpenCV(4.1.2) C:\\projects\\opencv-python\\opencv\\modules\\highgui\\src\\window.cpp:651: error: (-2:Unspecified error) The function is not implemented. Rebuild the library with Windows, GTK+ 2.x or Cocoa support. If you are on Ubuntu or Debian, install libgtk2.0-dev and pkg-config, then re-run cmake or configure script in function 'cvShowImage'\n"
     ]
    }
   ],
   "source": [
    "# Convert the grayscale image to binary\n",
    "ret, binary = cv2.threshold(gray, 100, 255, \n",
    "  cv2.THRESH_OTSU)\n",
    " \n",
    "# Display the binary image\n",
    "cv2.imshow('Binary image', binary)\n",
    "cv2.waitKey(0) # Wait for keypress to continue\n",
    "cv2.destroyAllWindows() # Close windows\n",
    " \n",
    "# To detect object contours, we want a black background and a white \n",
    "# foreground, so we invert the image (i.e. 255 - pixel value)\n",
    "inverted_binary = ~binary\n",
    "cv2.imshow('Inverted binary image', inverted_binary)\n",
    "cv2.waitKey(0) # Wait for keypress to continue\n",
    "cv2.destroyAllWindows() # Close windows\n",
    " \n",
    "# Find the contours on the inverted binary image, and store them in a list\n",
    "# Contours are drawn around white blobs.\n",
    "# hierarchy variable contains info on the relationship between the contours\n",
    "contours, hierarchy = cv2.findContours(inverted_binary,\n",
    "  cv2.RETR_TREE,\n",
    "  cv2.CHAIN_APPROX_SIMPLE)\n",
    "     \n",
    "# Draw the contours (in red) on the original image and display the result\n",
    "# Input color code is in BGR (blue, green, red) format\n",
    "# -1 means to draw all contours\n",
    "with_contours = cv2.drawContours(image, contours, -1,(255,0,255),3)\n",
    "cv2.imshow('Detected contours', with_contours)\n",
    "cv2.waitKey(0)\n",
    "cv2.destroyAllWindows()\n",
    " \n",
    "# Show the total number of contours that were detected\n",
    "print('Total number of contours detected: ' + str(len(contours)))\n",
    " \n",
    "# Draw just the first contour\n",
    "# The 0 means to draw the first contour\n",
    "first_contour = cv2.drawContours(new_image, contours, 0,(255,0,255),3)\n",
    "cv2.imshow('First detected contour', first_contour)\n",
    "cv2.waitKey(0)\n",
    "cv2.destroyAllWindows()\n",
    " \n",
    "# Draw a bounding box around the first contour\n",
    "# x is the starting x coordinate of the bounding box\n",
    "# y is the starting y coordinate of the bounding box\n",
    "# w is the width of the bounding box\n",
    "# h is the height of the bounding box\n",
    "x, y, w, h = cv2.boundingRect(contours[0])\n",
    "cv2.rectangle(first_contour,(x,y), (x+w,y+h), (255,0,0), 5)\n",
    "cv2.imshow('First contour with bounding box', first_contour)\n",
    "cv2.waitKey(0)\n",
    "cv2.destroyAllWindows()\n",
    " \n",
    "# Draw a bounding box around all contours\n",
    "for c in contours:\n",
    "  x, y, w, h = cv2.boundingRect(c)\n",
    " \n",
    "    # Make sure contour area is large enough\n",
    "  if (cv2.contourArea(c)) > 10:\n",
    "    cv2.rectangle(with_contours,(x,y), (x+w,y+h), (255,0,0), 5)\n",
    "         \n",
    "cv2.imshow('All contours with bounding box', with_contours)\n",
    "cv2.waitKey(0)\n",
    "cv2.destroyAllWindows()"
   ]
  },
  {
   "cell_type": "code",
   "execution_count": null,
   "id": "strong-leadership",
   "metadata": {},
   "outputs": [],
   "source": []
  },
  {
   "cell_type": "code",
   "execution_count": null,
   "id": "consecutive-tomato",
   "metadata": {},
   "outputs": [],
   "source": []
  }
 ],
 "metadata": {
  "kernelspec": {
   "display_name": "Python 3",
   "language": "python",
   "name": "python3"
  },
  "language_info": {
   "codemirror_mode": {
    "name": "ipython",
    "version": 3
   },
   "file_extension": ".py",
   "mimetype": "text/x-python",
   "name": "python",
   "nbconvert_exporter": "python",
   "pygments_lexer": "ipython3",
   "version": "3.8.6rc1"
  }
 },
 "nbformat": 4,
 "nbformat_minor": 5
}
